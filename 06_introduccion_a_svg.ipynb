{
 "cells": [
  {
   "cell_type": "markdown",
   "metadata": {},
   "source": [
    "[![imagenes/pythonista.png](imagenes/pythonista.png)](https://pythonista.io)"
   ]
  },
  {
   "cell_type": "markdown",
   "metadata": {},
   "source": [
    "[SVG](https://www.w3.org/Graphics/SVG/) es una especificación de la W3C para definir un formato de imágenes vectoriales capaces de ser desplegadas por diversas herramientas y particularmente en navegadores web.\n",
    "\n",
    "Actualmente diversas herramientas de diseño, paquetes ofimáticos y navegadores pueden exportar, importar y desplegar imágenes en formato SVG. Para identificar archivos que contengan una imagen con esta especificación se utiliza la extensión *.svg*.\n",
    "\n",
    "Hay un tutorial disponible en https://www.w3schools.com/graphics/svg_intro.asp.\n",
    "\n",
    "Además la documentación de Mozilla es muy completa https://developer.mozilla.org/es/docs/Web/SVG"
   ]
  },
  {
   "cell_type": "markdown",
   "metadata": {},
   "source": [
    "## Estructura de un elemento SVG.\n",
    "\n",
    "Las imágenes SVG se definen mediante una estructura de etiquetas similar a HTML y es compatible con CSS y DOM.\n",
    "\n",
    "Para indicar de que se trata de una imagen svg se utiliza la etiqueta *&lt;svg&gt;*."
   ]
  },
  {
   "cell_type": "markdown",
   "metadata": {},
   "source": [
    "## Dimensiones de una imagen SVG.\n",
    "\n",
    "Los atributos mínimos de una imagen SVG son *width* y *height* para definir el tamaño de esta."
   ]
  },
  {
   "cell_type": "markdown",
   "metadata": {},
   "source": [
    "**Ejemplo:**"
   ]
  },
  {
   "cell_type": "code",
   "execution_count": null,
   "metadata": {
    "scrolled": false
   },
   "outputs": [],
   "source": [
    "%%svg\n",
    "\n",
    "<svg width=\"50px\" height=\"50px\">\n",
    "</svg>"
   ]
  },
  {
   "cell_type": "markdown",
   "metadata": {},
   "source": [
    "## Sistema de referencia de la imagen.\n",
    "\n",
    "* Por defecto, los puntos dentro de una imagen SVG se identfican mediante las coordenadas cartesianas (x, y) tomando al punto de origen (0,0) a la esquina superior izquierda de la imagen.\n",
    "* Por defecto, las unidades corresponden a las unidades definidas para dimensionar a la imagen."
   ]
  },
  {
   "cell_type": "code",
   "execution_count": null,
   "metadata": {},
   "outputs": [],
   "source": [
    "%%svg\n",
    "<svg width=\"100\" height=\"100\">\n",
    "\n",
    "    <line x1=\"3\" y1=\"3\" x2=\"3\" y2=\"100\" stroke=\"black\" />\n",
    "    <path d=\"M 100 3 L 94 7 L 94 0 \" fill=\"black\" />\n",
    "    <text x=\"90\" y=\"15\">x</text>\n",
    "    \n",
    "    <line x1=\"3\" y1=\"3\" x2=\"100\" y2=\"3\" stroke=\"black\" />\n",
    "    <path d=\"M 3 100 L 7 94 L 0 94\" fill=\"black\" />  \n",
    "    <text x=\"8\" y=\"97\">y</text>\n",
    "</svg>"
   ]
  },
  {
   "cell_type": "markdown",
   "metadata": {},
   "source": [
    "## Trazado de líneas rectas.\n",
    "\n",
    "Para trazar una línea se utiliza la etiqueta *&lt;line&gt;* definiendo las coordenadas de sus 2 puntos extremos de la siguiente forma:\n",
    "\n",
    "```html\n",
    " <line x1=\"(valor numérico)\" y1=\"(valor numérico)\" x2=\"(valor numérico)\" y2=\"(valor numérico)\" stroke=\"(color)\"/>  \n",
    "```\n",
    "\n",
    "Donde:\n",
    "* *x1* y *y1* corresponden a las coordenadas cartesianas del primer punto de la línea.\n",
    "* *x2* y *y2* corresponden a las coordenadas cartesianas del segundo punto de la línea.\n",
    "* *stroke* corresponde al color de la línea.\n",
    "\n",
    "El color de la línea es negro por defecto."
   ]
  },
  {
   "cell_type": "markdown",
   "metadata": {},
   "source": [
    "**Ejemplo:**\n",
    "\n",
    "Se trazarán 3 líneas rectas, pero una de ellas utilizará coordenadas que quedan fuera de la imagen."
   ]
  },
  {
   "cell_type": "code",
   "execution_count": null,
   "metadata": {},
   "outputs": [],
   "source": [
    "%%svg\n",
    "<svg width=\"100\" height=\"100\">\n",
    "    <line x1=\"0\" y1=\"15\" x2=\"90\" y2=\"63\" stroke=\"blue\" id=\"linea1\"/>  \n",
    "    <line x1=\"-6\" y1=\"0\" x2=\"73\" y2=\"85\" stroke=\"red\" id=\"linea2\"/>\n",
    "    <line x1=\"-3\" y1=\"15\" x2=\"-8\" y2=\"63\" stroke=\"orange\" id=\"linea3\"/> \n",
    "</svg>"
   ]
  },
  {
   "cell_type": "markdown",
   "metadata": {},
   "source": [
    "## Trazado de rectángulos.\n",
    "\n",
    "Para trazar un rectángulo se utiliza la etiqueta *&lt;rect&gt;* definiendo la coordenada de su esquina superior izquierda, su ancho y su largo de la siguiente forma:\n",
    "\n",
    "```html\n",
    " <rect x=\"(valor numérico)\" y=\"(valor numérico)\" width=\"(valor numérico)\" height=\"(valor numérico)\"/>  \n",
    "```\n",
    "\n",
    "Donde:\n",
    "* *x* y *y* corresponden a las coordenadas cartesianas de la esquina inferior izquierda.\n",
    "\n",
    "* *width* corresponde al ancho del rectángulo.\n",
    "* *height* coreeponde al alto del rectángulo.\n",
    "\n",
    "\n",
    "Adicionalmente se pueden definir:\n",
    "\n",
    "* Bordes redondeados mediante los atributos *rx* y *ry*.\n",
    "* Línea perimetral con *stroke*.\n",
    "* El color por defecto de la superficie es negro, pero se puede definir con el atributo *fill*."
   ]
  },
  {
   "cell_type": "markdown",
   "metadata": {},
   "source": [
    "**Ejemplos:**"
   ]
  },
  {
   "cell_type": "code",
   "execution_count": null,
   "metadata": {},
   "outputs": [],
   "source": [
    "%%svg\n",
    "<svg width=\"100px\" height=\"100px\">\n",
    "    <rect x=\"10\" y=\"10\" width=\"60\" height=\"20\"/>  \n",
    "</svg>"
   ]
  },
  {
   "cell_type": "code",
   "execution_count": null,
   "metadata": {},
   "outputs": [],
   "source": [
    "%%svg\n",
    "\n",
    "<svg width=\"100px\" height=\"100px\">\n",
    "    <rect x=\"10\" y=\"10\" width=\"60\" height=\"80\" stroke=\"blue\" rx=\"5\" ry=\"5\" fill=\"red\"/>  \n",
    "</svg>"
   ]
  },
  {
   "cell_type": "markdown",
   "metadata": {},
   "source": [
    "## Trazado de una polilínea.\n",
    "\n",
    "\n",
    "Para trazar un polígono cerrado se utiliza la etiqueta *&lt;polyline&gt;* definiendo la coordenadas de cada esquina de este en formato x,y:\n",
    "\n",
    "```html\n",
    " <polyline points=\"(pares x,y separado por espacios)\"/>  \n",
    "```\n",
    "\n",
    "Adicionalmente se pueden definir:\n",
    "\n",
    "* En caso de que se quiera una polilínea abierta se debe de incluir *fill=\"none\"*.\n",
    "* Línea con *stroke*."
   ]
  },
  {
   "cell_type": "markdown",
   "metadata": {},
   "source": [
    "**Ejemplos:**"
   ]
  },
  {
   "cell_type": "code",
   "execution_count": null,
   "metadata": {},
   "outputs": [],
   "source": [
    "%%svg\n",
    "\n",
    "<svg width=\"100px\" height=\"100px\" stroke-width=\"1%\" id=\"poli\">\n",
    "    <polyline points=\"0,5 10,20 35,60, 100,50, 60,45\" fill=\"none\" stroke=\"red\"/>  \n",
    "</svg>"
   ]
  },
  {
   "cell_type": "code",
   "execution_count": null,
   "metadata": {},
   "outputs": [],
   "source": [
    "%%svg\n",
    "\n",
    "<svg width=\"100px\" height=\"100px\">\n",
    "    <polyline points=\"0,5 10,20 35,60, 100,50, 60,45\" fill=\"orange\" stroke=\"red\"/>  \n",
    "</svg>"
   ]
  },
  {
   "cell_type": "markdown",
   "metadata": {},
   "source": [
    "## Trazado de un polígono cerrado.\n",
    "\n",
    "\n",
    "Para trazar un polígono cerrado se utiliza la etiqueta *&lt;polygon&gt;* definiendo la coordenadas de cada esquina de este en formato x,y:\n",
    "\n",
    "```html\n",
    " <polygon points=\"(pares x,y separado por espacios)\"/>  \n",
    "```\n",
    "\n",
    "Adicionalmente se pueden definir:\n",
    "\n",
    "* Línea perimetral con *stroke*.\n",
    "* El color por defecto de la superficie es negro, pero se puede definir con el atributo *fill*."
   ]
  },
  {
   "cell_type": "markdown",
   "metadata": {},
   "source": [
    "**Ejemplo:**"
   ]
  },
  {
   "cell_type": "code",
   "execution_count": null,
   "metadata": {},
   "outputs": [],
   "source": [
    "%%svg\n",
    "\n",
    "<svg width=\"100px\" height=\"100px\">\n",
    "    <polygon points=\"0,5 10,80, 45,60\" fill=\"orange\" stroke=\"black\"/>   \n",
    "</svg>"
   ]
  },
  {
   "cell_type": "markdown",
   "metadata": {},
   "source": [
    "## Trazado de un círculo.\n",
    "\n",
    "Para trazar un círculo se utiliza la etiqueta &lt;circle&gt; definiendo la coordenadas del centro y su radio:\n",
    "\n",
    "```\n",
    " <circle cx=\"(valor)\" cy=\"(valor)\" r=\"valor\"/>  \n",
    "```\n",
    "Adicionalmente se pueden definir:\n",
    "\n",
    "* Línea perimetral con *stroke*.\n",
    "* El color por defecto de la superficie es negro, pero se puede definir con el atributo *fill*.\n",
    "\n",
    "<svg width=\"100\" height=\"100\">\n",
    "    <circle cx=\"50\" cy=\"50\" r=\"25\" stroke=\"black\" fill=\"none\" />\n",
    "</svg>"
   ]
  },
  {
   "cell_type": "markdown",
   "metadata": {},
   "source": [
    "**Ejemplos:**"
   ]
  },
  {
   "cell_type": "code",
   "execution_count": null,
   "metadata": {},
   "outputs": [],
   "source": [
    "%%svg\n",
    "\n",
    "<svg width=\"100px\" height=\"100px\">\n",
    "    <circle cx=\"50\" cy=\"50\" r=\"25\" fill=\"none\" stroke=\"black\" />  \n",
    "</svg>"
   ]
  },
  {
   "cell_type": "code",
   "execution_count": null,
   "metadata": {
    "scrolled": true
   },
   "outputs": [],
   "source": [
    "%%svg\n",
    "\n",
    "<svg width=\"100px\" height=\"100px\">\n",
    "    <circle cx=\"0\" cy=\"0\" r=\"50\" fill=\"orange\"/>  \n",
    "</svg>"
   ]
  },
  {
   "cell_type": "markdown",
   "metadata": {},
   "source": [
    "## Trazado de una elipse."
   ]
  },
  {
   "cell_type": "markdown",
   "metadata": {},
   "source": [
    "Para trazar una elipse se utiliza la etiqueta &lt;ellipse&gt; definiendo la coordenadas del centro y sus radios horizontal (*rx*) y vertical (*ry*):\n",
    "\n",
    "```\n",
    " <ellipse cx=\"(valor)\" cy=\"(valor)\" rx=\"valor\" ry=\"valor\" />  \n",
    "```\n",
    "\n",
    "Adicionalmente se pueden definir:\n",
    "\n",
    "* Línea perimetral con *stroke*.\n",
    "* El color por defecto de la superficie es negro, pero se puede definir con el atributo *fill*."
   ]
  },
  {
   "cell_type": "markdown",
   "metadata": {},
   "source": [
    "**Ejemplos:**"
   ]
  },
  {
   "cell_type": "code",
   "execution_count": null,
   "metadata": {},
   "outputs": [],
   "source": [
    "%%svg\n",
    "\n",
    "<svg width=\"100px\" height=\"100px\">\n",
    "    <ellipse cx=\"50\" cy=\"50\" rx=\"25\" ry=\"40\" fill=\"none\" stroke=\"black\" />  \n",
    "</svg>"
   ]
  },
  {
   "cell_type": "code",
   "execution_count": null,
   "metadata": {},
   "outputs": [],
   "source": [
    "%%svg\n",
    "\n",
    "<svg width=\"100px\" height=\"100px\">\n",
    "    <ellipse cx=\"50\" cy=\"50\" rx=\"50\" ry=\"10\" fill=\"orange\" />  \n",
    "</svg>"
   ]
  },
  {
   "cell_type": "markdown",
   "metadata": {},
   "source": [
    "## Trazado de una ruta.\n",
    "\n",
    "Es posible trazar rutas que incluyan rectas y curvas mediante la etiqueta &lt;path&gt;.\n",
    "\n",
    "```\n",
    "<path d=\"(trazos)\"/>\n",
    "\n",
    "```\n",
    "Adicionalmente se pueden definir:\n",
    "\n",
    "* Línea perimetral con *stroke*.\n",
    "* El color por defecto de la superficie es negro, pero se puede definir con el atributo *fill*.\n",
    "\n",
    "Los trazos corresponden a una sucesión de comandos de una letra con los datos para su ejecución:\n",
    "\n",
    "* M = Mueve el puntero a una coordenada.\n",
    "* L = Línea a una coordenada.\n",
    "* H = Línea horizontal a una coordenada\n",
    "* V = Línea vertical a una coordenada\n",
    "* C = Curva cúbica de Bézier hacia una coordenada con 2 puntos de control.\n",
    "* S = Curva cúbica de Bézier suavizada hacia una coordenada con 1 punto de control.\n",
    "* Q = Curva cuadrática de Bézier hacia una coordenada con 2 puntos de control.\n",
    "* T = Curva cuadrática de Bézier hacia una coordenada con 1 punto de control.\n",
    "* A = Arco elíptico.\n",
    "* Z = Cierra el trazo.\n",
    "\n",
    "**Nota:**\n",
    "\n",
    "Cuando las letras se escriben en mayúsculas, indican coordenadas absolutas y cuando se escirben en minúsculas, indican coordenadas relativas.\n",
    "\n",
    "Para mayor información es posible consultar:\n",
    "\n",
    "https://developer.mozilla.org/es-EL/docs/Web/SVG/Tutorial/Paths"
   ]
  },
  {
   "cell_type": "markdown",
   "metadata": {},
   "source": [
    "**Ejemplo:**\n",
    "* Se creará un elemento SVG de 200x100 pixeles.\n",
    "* Se posicionará el puntero en la coordenada 20,20.\n",
    "* Se trazará una línea a la coordenada 100,45.\n",
    "* Se trasará una curva cúbica de Bézier con:\n",
    "    * Un punto de control a 50 pixeles a la derecha y 10 pixeles abajo de la coordenada 100,45.\n",
    "    * Un punto de control a 50 pixeles a la derecha y 40 pixeles abajo de la coordenada 100,45.\n",
    "    * El extremo de la curva se localizará 50 pixeles debajo de la coordenada 100,45.\n",
    "* Se cerrará lel trazo."
   ]
  },
  {
   "cell_type": "code",
   "execution_count": null,
   "metadata": {},
   "outputs": [],
   "source": [
    "%%svg\n",
    "\n",
    "<svg width=\"200px\" height=\"100px\">\n",
    "    <path d=\"M 20 20 L 100 45 c 50 10 50 40 0 50 Z\" stroke=\"black\" fill=\"orange\"/>\n",
    "</svg>\n"
   ]
  },
  {
   "cell_type": "markdown",
   "metadata": {},
   "source": [
    "### Movimiento del puntero dentro del elemento SVG.\n",
    "\n",
    "Es posible desplazar el puntero del trazo a una posición específica con el comando *M* indicando la coordenada a la que se desplazará.\n",
    "\n",
    "```\n",
    "M x y\n",
    "```\n",
    "\n",
    "Donde:\n",
    "\n",
    "* *x* correponde a la posición en el eje horizontal del punto de destino.\n",
    "* *y* correponde a la posición en el eje horizontal del punto de destino.\n",
    "\n",
    "Este comando no genera ningún trazo y se ilustará en otros ejemplos."
   ]
  },
  {
   "cell_type": "markdown",
   "metadata": {},
   "source": [
    "### Trazo de una línea hacia un punto.\n",
    "\n",
    "El comando *L* traza una línea hacia la coordenada a la que se indica.\n",
    "\n",
    "```\n",
    "L x y\n",
    "```\n",
    "\n",
    "Donde:\n",
    "\n",
    "* *x* correponde a la posición en el eje horizontal del punto de destino.\n",
    "* *y* correponde a la posición en el eje horizontal del punto de destino."
   ]
  },
  {
   "cell_type": "markdown",
   "metadata": {},
   "source": [
    "**Ejemplo:**\n",
    "\n",
    "* Se creará un elemento SVG de 100x100 pixeles.\n",
    "* Se desplazará el puntero al centro (50, 50).\n",
    "* Se trazará una línea 25 unidades a la derecha y 25 hacia abajo a partir del puntero.\n",
    "* Se trazará una línea a la coordenada 100,0."
   ]
  },
  {
   "cell_type": "code",
   "execution_count": null,
   "metadata": {},
   "outputs": [],
   "source": [
    "%%svg\n",
    "\n",
    "<svg width=\"100px\" height=\"100px\">\n",
    "    <path d=\"M 50 50 l 25 25 L 100 0\" stroke=\"black\" fill=\"orange\"/>\n",
    "</svg>"
   ]
  },
  {
   "cell_type": "markdown",
   "metadata": {},
   "source": [
    "### Trazo de una línea horizontal.\n",
    "\n",
    "El comando *H* traza una línea horizontal de la longitudo que se indica.\n",
    "\n",
    "```\n",
    "H x \n",
    "```\n",
    "\n",
    "Donde:\n",
    "\n",
    "* *x* correponde a la posición en el eje horizontal del punto de destino."
   ]
  },
  {
   "cell_type": "markdown",
   "metadata": {},
   "source": [
    "### Trazo de una línea vertical.\n",
    "\n",
    "El comando *V* traza una línea hacia la coordenada a la que se indica.\n",
    "\n",
    "```\n",
    "V y \n",
    "```\n",
    "\n",
    "Donde:\n",
    "\n",
    "* *y* correponde a la posición en el eje vertical del punto de destino."
   ]
  },
  {
   "cell_type": "markdown",
   "metadata": {},
   "source": [
    "**Ejemplos:**\n",
    "* Se creará un elemento SVG de 100px por 100px.\n",
    "* Se desplazará el puntero a la posición (10, 10).\n",
    "* Se trazará una línea horizontal hasta la coordenada 90 en el eje de las x.\n",
    "* Se trazará una línea vertical hasta la coordenada 90 en el eje de las y.\n",
    "* Se trazará una línea horizontal hasta la coordenada 10 en el eje de las x."
   ]
  },
  {
   "cell_type": "code",
   "execution_count": null,
   "metadata": {
    "scrolled": false
   },
   "outputs": [],
   "source": [
    "%%svg\n",
    "\n",
    "<svg width=\"100px\" height=\"100px\">\n",
    "    <path d=\"M10 10 H 90 V 90 H 10 \" stroke=\"black\" fill=\"orange\"/>\n",
    "</svg>"
   ]
  },
  {
   "cell_type": "markdown",
   "metadata": {},
   "source": [
    "* Se creará un elemento SVG de 150x100 pixeles.\n",
    "* Se utilizarán las mismas coordenadas del ejemplo anterior para trazar las líneas, pero ahora  éstas serán coordenadas relativas."
   ]
  },
  {
   "cell_type": "code",
   "execution_count": null,
   "metadata": {},
   "outputs": [],
   "source": [
    "%%svg\n",
    "\n",
    "<svg width=\"150px\" height=\"100px\">\n",
    "    <path d=\"M10 10 h 90 v 90 h 10 \" stroke=\"black\" fill=\"orange\"/>\n",
    "</svg>"
   ]
  },
  {
   "cell_type": "markdown",
   "metadata": {},
   "source": [
    "### Trazo de curvas de Bézier.\n",
    "\n",
    "Las [curvas de Bézier](https://es.wikipedia.org/wiki/Curva_de_B%C3%A9zier) son trazos que unen dos puntos y cuya curvatura está definida por \"puntos de control\".\n",
    "\n",
    "SVG implementa las curvas cúbicas y cuadráticas de Bézier tanto de 2 puntos de control como de 1 punto de control (suavizadas).\n",
    "\n",
    "Los comandos para cada curva son los siguientes:"
   ]
  },
  {
   "cell_type": "markdown",
   "metadata": {},
   "source": [
    "#### Curva cúbica de Bézier hacia una coordenada (C).\n",
    "\n",
    "Se construye indicando las coordenadas de los 2 puntos de control y al final la coordenada del punto extremo de la curva.\n",
    "\n",
    "```\n",
    "C c1x c1y c2x c2y x y\n",
    "\n",
    "```\n",
    "\n",
    "Donde:\n",
    "\n",
    "* *c1x* y *c1y* corresponden a la coordenadas del primer punto de control.\n",
    "* *c2x* y *c2y* corresponden a la coordenadas del segundo punto de control.\n",
    "* *x* y _y_ corresponden a la coordenadas del punto extremo.\n"
   ]
  },
  {
   "cell_type": "markdown",
   "metadata": {},
   "source": [
    "**Ejemplos:**"
   ]
  },
  {
   "cell_type": "markdown",
   "metadata": {},
   "source": [
    "* Se trazará una curva cúbica de Bézier en un elemento SVG de 100x100 pixeles.\n",
    "* El origen de la curva será el origen.\n",
    "* Los puntos de control correponden a las coordenadas absolutas 50,70 y 50,30.\n",
    "* El punto extremo estará en 0,100."
   ]
  },
  {
   "cell_type": "code",
   "execution_count": null,
   "metadata": {},
   "outputs": [],
   "source": [
    "%%svg\n",
    "\n",
    "<svg width=\"100px\" height=\"100px\">\n",
    "    <path d=\"M 0 0 C 50 70 50 30 0 100 \" stroke=\"black\" fill=\"orange\"/>\n",
    "</svg>"
   ]
  },
  {
   "cell_type": "code",
   "execution_count": null,
   "metadata": {},
   "outputs": [],
   "source": [
    "%%svg\n",
    "<svg width=\"100px\" height=\"100px\">\n",
    "    <path d=\"M 0 0 C 50 70 50 30 0 100 \" stroke=\"black\" fill=\"orange\"/>\n",
    "    \n",
    "    <line x1=\"0\" y1=\"0\" x2=\"50\" y2=\"70\" stroke=\"blue\" stroke-dasharray=\"5,4\" />\n",
    "    <line x1=\"50\" y1=\"30\" x2=\"0\" y2=\"100\" stroke=\"blue\" stroke-dasharray=\"5,4\" />\n",
    "</svg>"
   ]
  },
  {
   "cell_type": "markdown",
   "metadata": {},
   "source": [
    "* Se trazará una curva cúbica de Bézier en un elemento SVG de 100x100 pixeles.\n",
    "* El origen de la curva será el punto 50,0.\n",
    "* Los puntos de control correponden a las coordenadas absolutas 100,50 y 0,50.\n",
    "* El punto extremo estará en 50,100."
   ]
  },
  {
   "cell_type": "code",
   "execution_count": null,
   "metadata": {
    "scrolled": false
   },
   "outputs": [],
   "source": [
    "%%svg\n",
    "\n",
    "<svg width=\"100px\" height=\"100px\">\n",
    "    <path d=\"M 50 0 C 100 50 0 50 50 100 \" stroke=\"black\" fill=\"orange\"/>\n",
    "</svg>"
   ]
  },
  {
   "cell_type": "code",
   "execution_count": null,
   "metadata": {},
   "outputs": [],
   "source": [
    "%%svg\n",
    "<svg width=\"100px\" height=\"100px\">\n",
    "    <path d=\"M 50 0 C 100 50 0 50 50 100 \" stroke=\"black\" fill=\"orange\"/>\n",
    "    <line x1=\"50\" y1=\"0\" x2=\"100\" y2=\"50\" stroke=\"blue\" stroke-dasharray=\"5,4\" />\n",
    "    <line x1=\"0\" y1=\"50\" x2=\"50\" y2=\"100\" stroke=\"blue\" stroke-dasharray=\"5,4\" />\n",
    "</svg>"
   ]
  },
  {
   "cell_type": "markdown",
   "metadata": {},
   "source": [
    "#### Curva cúbica de Bézier suavizada hacia una coordenada (S).\n",
    "\n",
    "En este caso, se utiliza un solo punto de control y el segundo punto se calcula como simétrico al primero.\n",
    "\n",
    "Se construye indicando la coordenada del punto de control y al final la coordenada del punto extremo de la curva.\n",
    "\n",
    "```\n",
    "S cx cy x y\n",
    "\n",
    "```\n",
    "\n",
    "Donde:\n",
    "\n",
    "* *cx* y *cy* corresponden a la coordenadas delpunto de control.\n",
    "* _x_ y *y* corresponden a la coordenadas del punto extremo.\n"
   ]
  },
  {
   "cell_type": "markdown",
   "metadata": {},
   "source": [
    "**Ejemplos:**"
   ]
  },
  {
   "cell_type": "markdown",
   "metadata": {},
   "source": [
    "* Se trazará una curva cúbica de Bézier suavizada en un elemento SVG de 100x100 pixeles.\n",
    "* El origen de la curva será el punto 50,0.\n",
    "* El punto de control correponden a las coordenadas absolutas 160,30.\n",
    "* El punto extremo estará en 50,100."
   ]
  },
  {
   "cell_type": "code",
   "execution_count": null,
   "metadata": {},
   "outputs": [],
   "source": [
    "%%svg\n",
    "\n",
    "<svg width=\"100px\" height=\"100px\">\n",
    "    <path d=\"M 50 0 S 160 30 50 100 \" stroke=\"black\" fill=\"orange\"/>\n",
    "</svg>"
   ]
  },
  {
   "cell_type": "code",
   "execution_count": null,
   "metadata": {},
   "outputs": [],
   "source": [
    "%%svg\n",
    "<svg width=\"200px\" height=\"100px\">\n",
    "    <path d=\"M 50 0 S 160 30 50 100 \" stroke=\"black\" fill=\"orange\"/>\n",
    "    <line x1=\"50\" y1=\"0\" x2=\"160\" y2=\"30\" stroke=\"blue\" stroke-dasharray=\"5,4\" />\n",
    "</svg>"
   ]
  },
  {
   "cell_type": "markdown",
   "metadata": {},
   "source": [
    "###  Curva cuadrática de Bézier hacia una coordenada (Q).\n",
    "\n",
    "Esta curva se genera a partir de un sólo punto de control.\n",
    "\n",
    "Se construye indicando las coordenadas del punto de control y al final la coordenada del punto extremo de la curva.\n",
    "\n",
    "```\n",
    "Q cx cy x y\n",
    "\n",
    "```\n",
    "\n",
    "Donde:\n",
    "\n",
    "* *cx* y *cy* corresponden a la coordenadas delpunto de control.\n",
    "* _x_ y *y* corresponden a la coordenadas del punto extremo.\n"
   ]
  },
  {
   "cell_type": "markdown",
   "metadata": {},
   "source": [
    "**Ejemplo:**"
   ]
  },
  {
   "cell_type": "markdown",
   "metadata": {},
   "source": [
    "* Se trazará una curva cuadrática de Bézier en un elemento SVG de 100x100 pixeles.\n",
    "* El origen de la curva será el punto 10,50.\n",
    "* El punto de control corresponden a las coordenadas absolutas 50,70.\n",
    "* El punto extremo estará en 0,100."
   ]
  },
  {
   "cell_type": "code",
   "execution_count": null,
   "metadata": {},
   "outputs": [],
   "source": [
    "%%svg\n",
    "\n",
    "<svg width=\"100px\" height=\"100px\">\n",
    "    <path d=\"M 0 0 Q 50 70 0 100 \" stroke=\"black\" fill=\"orange\"/>\n",
    "</svg>"
   ]
  },
  {
   "cell_type": "code",
   "execution_count": null,
   "metadata": {},
   "outputs": [],
   "source": [
    "%%svg\n",
    "<svg width=\"100px\" height=\"100px\">\n",
    "    <path d=\"M 0 0 Q 50 70 0 100 \" stroke=\"black\" fill=\"orange\"/>\n",
    "    <line x1=\"0\" y1=\"0\" x2=\"50\" y2=\"70\" stroke=\"blue\" stroke-dasharray=\"5,4\" />\n",
    "    <line x1=\"0\" y1=\"100\" x2=\"50\" y2=\"70\" stroke=\"blue\" stroke-dasharray=\"5,4\" />\n",
    "</svg>"
   ]
  },
  {
   "cell_type": "markdown",
   "metadata": {},
   "source": [
    "###  Curva cuadrática de Bézier calculada hacia una coordenada (T).\n",
    "\n",
    "Esta curva calcula el punto de control a partir de de una curva cuadrática previa.\n",
    "\n",
    "Se construye indicando las coordenadas del punto extremo de la curva.\n",
    "\n",
    "```\n",
    "T x y\n",
    "\n",
    "```\n",
    "\n",
    "Donde:\n",
    "\n",
    "* _x_ y *y* corresponden a la coordenadas del punto extremo.\n",
    "\n",
    "**Nota:**\n",
    "Siempre debe de definirse una curva Q previamente."
   ]
  },
  {
   "cell_type": "markdown",
   "metadata": {},
   "source": [
    "**Ejemplo:**\n",
    "* Se trazará una curva cuadrática de Bézier en un elemento SVG de 100x200 pixeles.\n",
    "* El origen de la curva será el punto 100,0.\n",
    "* El punto de control corresponden a las coordenadas absolutas 150,70.\n",
    "* El punto extremo estará en 100,100.\n",
    "* Se trazará una nueva curva cuadrática calculando el punto de control en el extremo 100 200."
   ]
  },
  {
   "cell_type": "code",
   "execution_count": null,
   "metadata": {
    "scrolled": true
   },
   "outputs": [],
   "source": [
    "%%svg\n",
    "\n",
    "<svg width=\"200px\" height=\"200px\">\n",
    "    <path d=\"M 100 0 Q 150 70 100 100 T 100 200\" stroke=\"black\" fill=\"orange\"/>\n",
    "</svg>"
   ]
  },
  {
   "cell_type": "code",
   "execution_count": null,
   "metadata": {},
   "outputs": [],
   "source": [
    "%%svg\n",
    "<svg width=\"200px\" height=\"200px\">\n",
    "    <path d=\"M 100 0 Q 150 70 100 100 T 100 200\" stroke=\"black\" fill=\"orange\"/>\n",
    "    <line x1=\"100\" y1=\"0\" x2=\"150\" y2=\"70\" stroke=\"blue\" stroke-dasharray=\"5,4\" />\n",
    "    <line x1=\"100\" y1=\"100\" x2=\"150\" y2=\"70\" stroke=\"blue\" stroke-dasharray=\"5,4\" />\n",
    "</svg>"
   ]
  },
  {
   "cell_type": "markdown",
   "metadata": {},
   "source": [
    "### Trazo de un arco elíptico (A)."
   ]
  },
  {
   "cell_type": "markdown",
   "metadata": {},
   "source": [
    "Un arco elíptico despliega una sección de una elipse delimitada por 2 puntos extremos.\n",
    "\n",
    "la construcción de un arco elíptico inicia en el punto donde se encuentra el puntero y los datos que se debe incluir son los siguientes.\n",
    "\n",
    "En el caso del arco largo, \n",
    "\n",
    "```A rx ry rotacion bandera_de_arco_largo bandera_de_barrido x y\n",
    "```\n",
    "\n",
    "Donde: \n",
    "\n",
    "* *rx* es el radio en el eje de las x\n",
    "* *ry* es el radio en el eje de las y\n",
    "* *rotacion* es el ángulo en grados en el que puede rotar la elipse.\n",
    "* *bandera_de_arco_largo* es un valor entre 0 y 1 indicando si la sección de la elipse a desplegar es la más corta (0) o la más larga (1).\n",
    "* *bandera_de_barrido* es un valor entre 0 y 1 indicando si la dirección de la construcción de la elipse es en sentido contrario a las manecillas del reloj (0) o en sentido a las manecillas del reloj (1)."
   ]
  },
  {
   "cell_type": "markdown",
   "metadata": {},
   "source": [
    "**Ejemplo:**\n",
    "\n",
    "Es posible trazar cuatro arcos elípticos que interesecten 2 puntos en el plano x,y.\n",
    "\n",
    "A continuación se desplegarán las 4 opciones de los arcos que pasan por los puntos 75, 100 y 100,145. "
   ]
  },
  {
   "cell_type": "markdown",
   "metadata": {},
   "source": [
    "* En este caso se creará un arco corto construido en sentido contrario a las manecillas del reloj."
   ]
  },
  {
   "cell_type": "code",
   "execution_count": null,
   "metadata": {},
   "outputs": [],
   "source": [
    "%%svg\n",
    "<svg width=\"200px\" height=\"200px\">\n",
    "    <ellipse cx=\"100\" cy=\"100\" rx=\"25\" ry=\"45\" fill=\"orange\"/>\n",
    "</svg>"
   ]
  },
  {
   "cell_type": "code",
   "execution_count": null,
   "metadata": {},
   "outputs": [],
   "source": [
    "%%svg\n",
    "<svg width=\"200px\" height=\"200px\">\n",
    "    <path d=\"M 75 100 A 25 45 0 0 0 100 145\" fill=\"orange\"/>\n",
    "</svg>"
   ]
  },
  {
   "cell_type": "code",
   "execution_count": null,
   "metadata": {
    "scrolled": true
   },
   "outputs": [],
   "source": [
    "%%svg\n",
    "<svg width=\"200px\" height=\"200px\">\n",
    "\n",
    "    <line x1=\"3\" y1=\"3\" x2=\"200\" y2=\"3\" stroke=\"black\" />    \n",
    "    <path d=\"M 200 3 L 194 7 L 194 0 \" fill=\"black\" />\n",
    "    <text x=\"190\" y=\"15\">x</text>\n",
    "    \n",
    "\n",
    "    <line x1=\"3\" y1=\"3\" x2=\"3\" y2=\"200\" stroke=\"black\" />\n",
    "    <path d=\"M 3 200 L 7 194 L 0 194\" fill=\"black\" />  \n",
    "    <text x=\"8\" y=\"197\">y</text>\n",
    "\n",
    "\n",
    "    <path d=\"M 75 100 A 25 45 0 0 0 100 145\" stroke=\"blue\" fill=\"orange\"/>\n",
    "    \n",
    "    <ellipse rx=\"25\" ry=\"45\" cx=\"100\" cy=\"100\" fill=\"none\" stroke=\"black\"/>\n",
    "    <line x1=\"21.11\" y1=\"3\" x2=\"130.56\" y2=\"200\" stroke=\"blue\" stroke-dasharray=\"5,4\"/>\n",
    "    <circle cx=\"75\" cy=\"100\" r=\"3\" fill=\"red\" />\n",
    "    <circle cx=\"100\" cy=\"145\" r=\"3\" fill=\"red\" />\n",
    "</svg>"
   ]
  },
  {
   "cell_type": "markdown",
   "metadata": {},
   "source": [
    "* En este caso se creará un arco largo construido en sentido contrario a las manecillas del reloj."
   ]
  },
  {
   "cell_type": "code",
   "execution_count": null,
   "metadata": {},
   "outputs": [],
   "source": [
    "%%svg\n",
    "<svg width=\"200px\" height=\"200px\">\n",
    "    <path d=\"M 75 100 A 25 45 0 1 0 100 145\" fill=\"orange\"/>\n",
    "</svg>    "
   ]
  },
  {
   "cell_type": "code",
   "execution_count": null,
   "metadata": {},
   "outputs": [],
   "source": [
    "%%svg\n",
    "<svg width=\"200px\" height=\"200px\">\n",
    "\n",
    "\n",
    "    <line x1=\"3\" y1=\"3\" x2=\"200\" y2=\"3\" stroke=\"black\" />    \n",
    "    <path d=\"M 200 3 L 194 7 L 194 0 \" fill=\"black\" />\n",
    "    <text x=\"190\" y=\"15\">x</text>\n",
    "    \n",
    "\n",
    "    <line x1=\"3\" y1=\"3\" x2=\"3\" y2=\"200\" stroke=\"black\" />\n",
    "    <path d=\"M 3 200 L 7 194 L 0 194\" fill=\"black\" />  \n",
    "    <text x=\"8\" y=\"197\">y</text>\n",
    "\n",
    "\n",
    "    <path d=\"M 75 100 A 25 45 0 1 0 100 145\" stroke=\"black\" fill=\"orange\"/>\n",
    "    \n",
    "    <ellipse rx=\"25\" ry=\"45\" cx=\"75\" cy=\"145\" fill=\"none\" stroke=\"black\"/>\n",
    "    <line x1=\"21.11\" y1=\"3\" x2=\"130.56\" y2=\"200\" stroke=\"blue\" stroke-dasharray=\"5,4\"/>\n",
    "    <circle cx=\"75\" cy=\"100\" r=\"3\" fill=\"red\" />\n",
    "    <circle cx=\"100\" cy=\"145\" r=\"3\" fill=\"red\" />\n",
    "</svg>"
   ]
  },
  {
   "cell_type": "markdown",
   "metadata": {},
   "source": [
    "* En este caso se creará un arco corto construido en el sentido de las manecillas del reloj."
   ]
  },
  {
   "cell_type": "code",
   "execution_count": null,
   "metadata": {},
   "outputs": [],
   "source": [
    "%%svg\n",
    "<svg width=\"200px\" height=\"200px\">\n",
    "    <path d=\"M 75 100 A 25 45 0 0 1 100 145\" fill=\"orange\"/>\n",
    "</svg>"
   ]
  },
  {
   "cell_type": "code",
   "execution_count": null,
   "metadata": {
    "scrolled": true
   },
   "outputs": [],
   "source": [
    "%%svg\n",
    "<svg width=\"200px\" height=\"200px\">\n",
    "\n",
    "\n",
    "    <line x1=\"3\" y1=\"3\" x2=\"200\" y2=\"3\" stroke=\"black\" />    \n",
    "    <path d=\"M 200 3 L 194 7 L 194 0 \" fill=\"black\" />\n",
    "    <text x=\"190\" y=\"15\">x</text>\n",
    "    \n",
    "\n",
    "    <line x1=\"3\" y1=\"3\" x2=\"3\" y2=\"200\" stroke=\"black\" />\n",
    "    <path d=\"M 3 200 L 7 194 L 0 194\" fill=\"black\" />  \n",
    "    <text x=\"8\" y=\"197\">y</text>\n",
    "\n",
    "    <path d=\"M 75 100 A 25 45 0 0 1 100 145\" stroke=\"blue\" fill=\"orange\"/>\n",
    "\n",
    "    <ellipse rx=\"25\" ry=\"45\" cx=\"75\" cy=\"145\" fill=\"none\" stroke=\"black\"/>\n",
    "    <line x1=\"21.11\" y1=\"3\" x2=\"130.56\" y2=\"200\" stroke=\"blue\" stroke-dasharray=\"5,4\"/>\n",
    "    <circle cx=\"75\" cy=\"100\" r=\"3\" fill=\"red\" />\n",
    "    <circle cx=\"100\" cy=\"145\" r=\"3\" fill=\"red\" />\n",
    "</svg>"
   ]
  },
  {
   "cell_type": "markdown",
   "metadata": {},
   "source": [
    "* En este caso se creará un arco largo construido en el sentido de las manecillas del reloj."
   ]
  },
  {
   "cell_type": "code",
   "execution_count": null,
   "metadata": {},
   "outputs": [],
   "source": [
    "%%svg\n",
    "<svg width=\"200px\" height=\"200px\">\n",
    "    <path d=\"M 75 100 A 25 45 0 1 1 100 145\" fill=\"orange\"/>\n",
    "</svg>"
   ]
  },
  {
   "cell_type": "code",
   "execution_count": null,
   "metadata": {
    "scrolled": true
   },
   "outputs": [],
   "source": [
    "%%svg\n",
    "<svg width=\"200px\" height=\"200px\">\n",
    "\n",
    "\n",
    "    <line x1=\"3\" y1=\"3\" x2=\"200\" y2=\"3\" stroke=\"black\" />    \n",
    "    <path d=\"M 200 3 L 194 7 L 194 0 \" fill=\"black\" />\n",
    "    <text x=\"190\" y=\"15\">x</text>\n",
    "    \n",
    "\n",
    "    <line x1=\"3\" y1=\"3\" x2=\"3\" y2=\"200\" stroke=\"black\" />\n",
    "    <path d=\"M 3 200 L 7 194 L 0 194\" fill=\"black\" />  \n",
    "    <text x=\"8\" y=\"197\">y</text>\n",
    "\n",
    "    <path d=\"M 75 100 A 25 45 0 1 1 100 145\" stroke=\"blue\" fill=\"orange\"/>\n",
    "    \n",
    "    <ellipse rx=\"25\" ry=\"45\" cx=\"100\" cy=\"100\" fill=\"none\" stroke=\"black\"/>\n",
    "    \n",
    "    <line x1=\"21.11\" y1=\"3\" x2=\"130.56\" y2=\"200\" stroke=\"blue\" \n",
    "    stroke-dasharray=\"5,4\"/>\n",
    "    \n",
    "    <circle cx=\"75\" cy=\"100\" r=\"3\" fill=\"red\" />\n",
    "    <circle cx=\"100\" cy=\"145\" r=\"3\" fill=\"red\" />\n",
    "</svg>"
   ]
  },
  {
   "cell_type": "markdown",
   "metadata": {},
   "source": [
    "## Atributos de línea perimetral (*stroke*).\n",
    "\n",
    "Es posible definir algunos atributos referentes a la línea perimetral de los elemento SVG."
   ]
  },
  {
   "cell_type": "markdown",
   "metadata": {},
   "source": [
    "### Ancho de línea.\n",
    "\n",
    "El ancho de la línea se define con el atributo *stoke-width*.\n",
    "\n",
    "Puede ser definido en unidades o porcentaje. El porcentaje es con respecto a las dimensiones del contenedor.\n",
    "\n",
    "```\n",
    "stroke-width=\"tamaño\"\n",
    "```"
   ]
  },
  {
   "cell_type": "markdown",
   "metadata": {},
   "source": [
    "**Ejemplo:**"
   ]
  },
  {
   "cell_type": "code",
   "execution_count": null,
   "metadata": {},
   "outputs": [],
   "source": [
    "%%svg\n",
    "<svg width=\"100px\" height=\"100px\">\n",
    "    <line x1=\"0\" y1=\"0\" x2=\"100\" y2=\"100\" stroke=\"black\" stroke-width=\"3\"/> \n",
    "    <line x1=\"10\" y1=\"0\" x2=\"100\" y2=\"90\" stroke=\"blue\" stroke-width=\"5\" />\n",
    "    <line x1=\"30\" y1=\"0\" x2=\"100\" y2=\"70\" stroke=\"green\" stroke-width=\"10%\" />\n",
    "</svg>\n",
    "    "
   ]
  },
  {
   "cell_type": "markdown",
   "metadata": {},
   "source": [
    "### Punteado de línea.\n",
    "\n",
    "Es posible definir patrones de punteado de línea con el *atributo stroke-dasharray* indicando el tamaño de los segmentos en unidades.\n",
    "\n",
    "```\n",
    "stroke-dasharray=\"sucesión de números separados por espacios\"\n",
    "```"
   ]
  },
  {
   "cell_type": "markdown",
   "metadata": {},
   "source": [
    "**Ejemplo:**"
   ]
  },
  {
   "cell_type": "code",
   "execution_count": null,
   "metadata": {},
   "outputs": [],
   "source": [
    "%%svg\n",
    "<svg width=\"100px\" height=\"100px\">\n",
    "    <line x1=\"0\" y1=\"0\" x2=\"100\" y2=\"100\" stroke=\"black\" stroke-dasharray=\"2 2\"/> \n",
    "    <line x1=\"10\" y1=\"0\" x2=\"100\" y2=\"90\" stroke=\"blue\" stroke-dasharray=\"5 4 1\" />\n",
    "    <line x1=\"20\" y1=\"0\" x2=\"100\" y2=\"80\" stroke=\"green\" stroke-dasharray=\"2 4 3 8\" />\n",
    "</svg>"
   ]
  },
  {
   "cell_type": "markdown",
   "metadata": {},
   "source": [
    "### Esquinas.\n",
    "\n",
    "Es posible definir el trazo de las esquinas de un trazo con el *atributo stroke-linejoin* indicando el tamaño de los segmentos en unidades.\n",
    "\n",
    "```\n",
    "stroke-linejoin=\"tipo\"\n",
    "```\n",
    "\n",
    "Donde el tipo puede ser:\n",
    "    \n",
    "* *miter* (valor por defecto)\n",
    "* *round*\n",
    "* *bevel*\n",
    "* *arcs*\n",
    "* *miter-clip*"
   ]
  },
  {
   "cell_type": "markdown",
   "metadata": {},
   "source": [
    "**Ejemplos:**"
   ]
  },
  {
   "cell_type": "markdown",
   "metadata": {},
   "source": [
    "* Trazo utilizando *miter*."
   ]
  },
  {
   "cell_type": "code",
   "execution_count": null,
   "metadata": {},
   "outputs": [],
   "source": [
    "%%svg\n",
    "<svg width=\"100px\" height=\"100px\">\n",
    "    <path d=\"M 15 90 C 4 80 -10 -11 80 78 L 90 10\" stroke=\"black\" fill=\"none\" \n",
    "    stroke-width=\"10\" stroke-linejoin=\"miter\"/>\n",
    "</svg>"
   ]
  },
  {
   "cell_type": "markdown",
   "metadata": {},
   "source": [
    "* Trazo utilizando *round*."
   ]
  },
  {
   "cell_type": "code",
   "execution_count": null,
   "metadata": {},
   "outputs": [],
   "source": [
    "%%svg\n",
    "<svg width=\"100px\" height=\"100px\">\n",
    "    <path d=\"M 15 90 C 4 80 -10 -11 80 78 L 90 10\" stroke=\"black\" fill=\"none\" \n",
    "    stroke-width=\"10\" stroke-linejoin=\"round\"/>\n",
    "</svg>"
   ]
  },
  {
   "cell_type": "markdown",
   "metadata": {},
   "source": [
    "* Trazo utilizando *bevel*."
   ]
  },
  {
   "cell_type": "code",
   "execution_count": null,
   "metadata": {},
   "outputs": [],
   "source": [
    "%%svg\n",
    "<svg width=\"100px\" height=\"100px\">\n",
    "    <path d=\"M 15 90 C 4 80 -10 -11 80 78 L 90 10\" stroke=\"black\" fill=\"none\" \n",
    "    stroke-width=\"10\" stroke-linejoin=\"bevel\"/>\n",
    "</svg>"
   ]
  },
  {
   "cell_type": "markdown",
   "metadata": {},
   "source": [
    "* Trazo utilizando *arcs*."
   ]
  },
  {
   "cell_type": "code",
   "execution_count": null,
   "metadata": {
    "scrolled": true
   },
   "outputs": [],
   "source": [
    "%%svg\n",
    "<svg width=\"100px\" height=\"100px\">\n",
    "    <path d=\"M 15 90 C 4 80 -10 -11 80 78 L 90 10\" stroke=\"black\" fill=\"none\" \n",
    "    stroke-width=\"10    \" stroke-linejoin=\"arcs\"/>\n",
    "</svg>"
   ]
  },
  {
   "cell_type": "markdown",
   "metadata": {},
   "source": [
    "* Trazo utilizando *miter-clip*."
   ]
  },
  {
   "cell_type": "code",
   "execution_count": null,
   "metadata": {},
   "outputs": [],
   "source": [
    "%%svg\n",
    "<svg width=\"100px\" height=\"100px\">\n",
    "    <path d=\"M 15 90 C 4 80 -10 -11 80 78 L 90 10\" stroke=\"black\" fill=\"none\" \n",
    "    stroke-width=\"10    \" stroke-linejoin=\"mitter-clip\"/>\n",
    "</svg>"
   ]
  },
  {
   "cell_type": "markdown",
   "metadata": {},
   "source": [
    "### Extremos.\n",
    "\n",
    "Es posible definir el trazo de las esquinas de un trazo con el *atributo stroke-linecap* indicando el tamaño de los segmentos en unidades.\n",
    "\n",
    "```\n",
    "stroke-linecap=\"tipo\"\n",
    "```\n",
    "\n",
    "Donde el tipo puede ser:\n",
    "    \n",
    "* *butt* (valor por defecto)\n",
    "* *square*\n",
    "* *round*"
   ]
  },
  {
   "cell_type": "markdown",
   "metadata": {},
   "source": [
    "**Ejemplo:**"
   ]
  },
  {
   "cell_type": "code",
   "execution_count": null,
   "metadata": {},
   "outputs": [],
   "source": [
    "%%svg\n",
    "<svg width=\"100px\" height=\"100px\">\n",
    "    \n",
    "    <path d=\"M 20 0 H 80\" stroke=\"black\" fill=\"none\" stroke-width=\"15\" stroke-linecap=\"butt\"/>\n",
    "    <path d=\"M 20 30 H 80\" stroke=\"black\" fill=\"none\" stroke-width=\"15\" stroke-linecap=\"square\"/>\n",
    "    <path d=\"M 20 60 H 80\" stroke=\"black\" fill=\"none\" stroke-width=\"15\" stroke-linecap=\"round\"/>\n",
    "</svg>"
   ]
  },
  {
   "cell_type": "markdown",
   "metadata": {},
   "source": [
    "### Opacidad.\n",
    "\n",
    "Es posible definir la opacidad de la línea con el *atributo stroke-opacity* indicando la opacidad en decimales de 0 a 1.\n",
    "\n",
    "```\n",
    "stroke-opacity=\"numero\"\n",
    "```"
   ]
  },
  {
   "cell_type": "markdown",
   "metadata": {},
   "source": [
    "**Ejemplo:**"
   ]
  },
  {
   "cell_type": "code",
   "execution_count": null,
   "metadata": {},
   "outputs": [],
   "source": [
    "%%svg\n",
    "<svg width=\"100px\" height=\"100px\">\n",
    "    <line x1=\"0\" y1=\"0\" x2=\"100\" y2=\"100\" stroke=\"blue\" stroke-width=\"15\" />\n",
    "    <line x1=\"100\" y1=\"0\" x2=\"0\" y2=\"100\" stroke=\"yellow\" stroke-width=\"15\" stroke-opacity=\"0.9\" />\n",
    "</svg>"
   ]
  },
  {
   "cell_type": "markdown",
   "metadata": {},
   "source": [
    "## Atributo de opacidad de relleno (*fill-opacity*).\n",
    "\n",
    "Es posible definir la opacidad del relleno con el *atributo fill-opacity* indicando la opacidad en decimales de 0 a 1.\n",
    "\n",
    "```\n",
    "fill-opacity=\"numero\"\n",
    "```"
   ]
  },
  {
   "cell_type": "markdown",
   "metadata": {},
   "source": [
    "**Ejemplo:**"
   ]
  },
  {
   "cell_type": "code",
   "execution_count": null,
   "metadata": {},
   "outputs": [],
   "source": [
    "%%svg\n",
    "<svg width=\"100px\" height=\"100px\">\n",
    "    <circle cx=\"40\" cy=\"50\" r=\"35\" fill=\"yellow\" />\n",
    "    <circle cx=\"60\" cy=\"50\" r=\"35\" fill=\"blue\" fill-opacity=\"0.9\"/>\n",
    "</svg>"
   ]
  },
  {
   "cell_type": "markdown",
   "metadata": {},
   "source": [
    "## Transformaciones.\n",
    "\n",
    "* Trasladar (translate)\n",
    "* Rotar (rotate)\n",
    "* Escalar (scale)\n",
    "* Extender en ejes (skew)\n",
    "```\n",
    "<(elemento) (parámetros) transform=\"(funciones de transformación)\" /> \n",
    "```\n",
    "\n",
    "Es posible consultar detalles sobre la forma de transformar elementos SVG en: \n",
    "\n",
    "https://css-tricks.com/transforms-on-svg-elements/"
   ]
  },
  {
   "cell_type": "markdown",
   "metadata": {},
   "source": [
    "### Traslación (*translate*)."
   ]
  },
  {
   "cell_type": "code",
   "execution_count": null,
   "metadata": {
    "scrolled": true
   },
   "outputs": [],
   "source": [
    "%%svg\n",
    "\n",
    "<svg width=\"100px\" height=\"100px\">\n",
    "    <rect x=\"10\" y=\"10\" width=\"60\" height=\"20\" stroke=\"blue\" stroke-dasharray=\"5,4\" fill=\"none\" />\n",
    "    <rect x=\"10\" y=\"10\" width=\"60\" height=\"20\" \n",
    "    transform=\"translate(-20 0)\" />  \n",
    "</svg>"
   ]
  },
  {
   "cell_type": "markdown",
   "metadata": {},
   "source": [
    "### Rotación (*rotate*)."
   ]
  },
  {
   "cell_type": "code",
   "execution_count": null,
   "metadata": {},
   "outputs": [],
   "source": [
    "%%svg\n",
    "\n",
    "<svg width=\"100px\" height=\"100px\">\n",
    "    <rect x=\"10\" y=\"10\" width=\"60\" height=\"20\" stroke=\"blue\" stroke-dasharray=\"5,4\" fill=\"none\" />\n",
    "    <rect x=\"10\" y=\"10\" width=\"60\" height=\"20\" transform=\"rotate(45)\"/>  \n",
    "</svg>"
   ]
  },
  {
   "cell_type": "code",
   "execution_count": null,
   "metadata": {
    "scrolled": true
   },
   "outputs": [],
   "source": [
    "%%svg\n",
    "\n",
    "<svg width=\"100px\" height=\"100px\">\n",
    "    <rect x=\"10\" y=\"10\" width=\"60\" height=\"20\" stroke=\"blue\" stroke-dasharray=\"5,4\"\n",
    "    fill=\"none\" />\n",
    "    <rect x=\"10\" y=\"10\" width=\"60\" height=\"20\" transform=\"rotate(45)\" stroke=\"red\" \n",
    "    stroke-dasharray=\"5,4\" fill=\"none\" />\n",
    "    <rect x=\"10\" y=\"10\" width=\"60\" height=\"20\" transform=\"rotate(45) rotate(45,50,20)\"/>  \n",
    "</svg>"
   ]
  },
  {
   "cell_type": "markdown",
   "metadata": {},
   "source": [
    "### Escala (*scale*)."
   ]
  },
  {
   "cell_type": "code",
   "execution_count": null,
   "metadata": {},
   "outputs": [],
   "source": [
    "%%svg\n",
    "\n",
    "<svg width=\"100px\" height=\"100px\">\n",
    "    <rect x=\"10\" y=\"10\" width=\"60\" height=\"20\" stroke=\"blue\" stroke-dasharray=\"5,4\"\n",
    "    fill=\"none\" />\n",
    "    <rect x=\"10\" y=\"10\" width=\"60\" height=\"20\" transform=\"scale(0.7, 3.5)\"/>  \n",
    "</svg>"
   ]
  },
  {
   "cell_type": "markdown",
   "metadata": {},
   "source": [
    "### Estiramiento en los ejes (*skew*)."
   ]
  },
  {
   "cell_type": "code",
   "execution_count": null,
   "metadata": {},
   "outputs": [],
   "source": [
    "%%svg\n",
    "\n",
    "<svg width=\"100px\" height=\"100px\">\n",
    "    <rect x=\"10\" y=\"10\" width=\"60\" height=\"20\" stroke=\"blue\" stroke-dasharray=\"5,4\"\n",
    "    fill=\"none\" />\n",
    "    <rect x=\"10\" y=\"10\" width=\"60\" height=\"20\" transform=\"skewX(30)\"/>  \n",
    "</svg>"
   ]
  },
  {
   "cell_type": "code",
   "execution_count": null,
   "metadata": {},
   "outputs": [],
   "source": [
    "%%svg\n",
    "\n",
    "<svg width=\"100px\" height=\"100px\">\n",
    "    <rect x=\"10\" y=\"10\" width=\"60\" height=\"20\" stroke=\"blue\" stroke-dasharray=\"5,4\"\n",
    "    fill=\"none\" />\n",
    "    <rect x=\"10\" y=\"10\" width=\"60\" height=\"20\" transform=\"skewY(30)\"/>  \n",
    "</svg>"
   ]
  },
  {
   "cell_type": "code",
   "execution_count": null,
   "metadata": {
    "scrolled": true
   },
   "outputs": [],
   "source": [
    "%%svg\n",
    "\n",
    "<svg width=\"150px\" height=\"100px\">\n",
    "    <rect x=\"10\" y=\"10\" width=\"60\" height=\"20\" stroke=\"blue\" stroke-dasharray=\"5,4\"\n",
    "    fill=\"none\" />\n",
    "    <rect x=\"10\" y=\"10\" width=\"60\" height=\"20\" transform=\"skewX(30)skewY(30)\" />  \n",
    "</svg>"
   ]
  },
  {
   "cell_type": "markdown",
   "metadata": {},
   "source": [
    "### Texto en SVG.\n",
    "\n",
    "Es posible incluir texto en elementos SVG mediante la estiqueta *&lt;text&gt;*.\n",
    "\n",
    "```\n",
    "<text x=\"coordenada x\" y=\"coordenada y\">texto</text>\n",
    "```\n",
    "Donde _x_ y *y* corresponden a las coordenadas de la esquina inferior izquierda del inicio del texto.\n",
    "\n",
    "Además de los atributos  se pueden incluir.\n",
    "\n",
    "* *dx*\n",
    "* *dy*\n",
    "* *rotate*\n",
    "* *textLenght*\n",
    "* *lenghtAdjust*\n",
    "\n",
    "El tamaño de la fuente es definido mediante estilos."
   ]
  },
  {
   "cell_type": "code",
   "execution_count": null,
   "metadata": {},
   "outputs": [],
   "source": [
    "%%svg\n",
    "\n",
    "<svg width=\"150px\" height=\"100px\">\n",
    "    <circle cx=\"50\" cy=\"50\" r=\"35\" fill=\"yellow\" />\n",
    "    <text x=\"50\" y=\"50\">TEXTO</text>\n",
    "</svg>"
   ]
  },
  {
   "cell_type": "code",
   "execution_count": null,
   "metadata": {},
   "outputs": [],
   "source": [
    "%%svg\n",
    "\n",
    "<svg width=\"150px\" height=\"100px\">\n",
    "    <circle cx=\"50\" cy=\"50\" r=\"35\" fill=\"yellow\" />\n",
    "    <text x=\"50\" y=\"50\" dx=\"-23\" dy=\"5\">TEXTO</text>\n",
    "</svg>"
   ]
  },
  {
   "cell_type": "code",
   "execution_count": null,
   "metadata": {},
   "outputs": [],
   "source": [
    "%%svg\n",
    "\n",
    "<svg width=\"150px\" height=\"100px\">\n",
    "    <circle cx=\"50\" cy=\"50\" r=\"35\" fill=\"yellow\" />\n",
    "    <text x=\"50\" y=\"50\" dx=\"-23\" dy=\"5\" rotate=\"45\">TEXTO</text>\n",
    "</svg>"
   ]
  },
  {
   "cell_type": "code",
   "execution_count": null,
   "metadata": {},
   "outputs": [],
   "source": [
    "%%svg\n",
    "\n",
    "<svg width=\"150px\" height=\"100px\">\n",
    "    <circle cx=\"50\" cy=\"50\" r=\"35\" fill=\"yellow\" />\n",
    "    <text x=\"50\" y=\"50\" lenghtAdjust=\"10\">TEXTO</text>\n",
    "</svg>"
   ]
  },
  {
   "cell_type": "markdown",
   "metadata": {},
   "source": [
    "### Texto siguiendo un trazo con *textPath*.\n",
    "\n",
    "La etiqueta &lt;textPath&gt; nos permite seguir un trazo al utilizarlo como referencia.\n",
    "\n",
    "```\n",
    "<text>\n",
    "    <textPath href=\"#id_de_un_trazo_svg\"> Texto </textPath>\n",
    "</text>\n",
    "```"
   ]
  },
  {
   "cell_type": "markdown",
   "metadata": {},
   "source": [
    "**Ejemplo:**"
   ]
  },
  {
   "cell_type": "code",
   "execution_count": null,
   "metadata": {},
   "outputs": [],
   "source": [
    "%%svg\n",
    "<svg width=\"200px\" height=\"200px\">\n",
    "    <path d=\"M 75 100 A 25 45 0 1 0 100 145\" stroke=\"orange\" fill=\"none\" id=\"trazo\"/>\n",
    "    <text>\n",
    "       <textPath href=\"#trazo\">\n",
    "      sigue el trazo\n",
    "       </textPath>\n",
    "  </text>\n",
    "</svg>  "
   ]
  },
  {
   "cell_type": "code",
   "execution_count": null,
   "metadata": {},
   "outputs": [],
   "source": [
    "%%svg\n",
    "<svg width=\"200px\" height=\"200px\">\n",
    "    <path d=\"M 75 100 A 25 45 0 1 0 100 145\" stroke=\"none\" fill=\"none\" id=\"trazo\"/>\n",
    "    <text>\n",
    "       <textPath href=\"#trazo\">\n",
    "      sigue el trazo\n",
    "       </textPath>\n",
    "  </text>\n",
    "</svg>  "
   ]
  },
  {
   "cell_type": "markdown",
   "metadata": {},
   "source": [
    "<p style=\"text-align: center\"><a rel=\"license\" href=\"http://creativecommons.org/licenses/by/4.0/\"><img alt=\"Licencia Creative Commons\" style=\"border-width:0\" src=\"https://i.creativecommons.org/l/by/4.0/80x15.png\" /></a><br />Esta obra está bajo una <a rel=\"license\" href=\"http://creativecommons.org/licenses/by/4.0/\">Licencia Creative Commons Atribución 4.0 Internacional</a>.</p>\n",
    "<p style=\"text-align: center\">&copy; José Luis Chiquete Valdivieso. 2019.</p>"
   ]
  }
 ],
 "metadata": {
  "kernelspec": {
   "display_name": "Python 3",
   "language": "python",
   "name": "python3"
  },
  "language_info": {
   "codemirror_mode": {
    "name": "ipython",
    "version": 3
   },
   "file_extension": ".py",
   "mimetype": "text/x-python",
   "name": "python",
   "nbconvert_exporter": "python",
   "pygments_lexer": "ipython3",
   "version": "3.7.0"
  }
 },
 "nbformat": 4,
 "nbformat_minor": 2
}
