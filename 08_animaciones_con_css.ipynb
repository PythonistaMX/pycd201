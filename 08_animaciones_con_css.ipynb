{
 "cells": [
  {
   "cell_type": "markdown",
   "metadata": {},
   "source": [
    "[![imagenes/pythonista.png](imagenes/pythonista.png)](https://pythonista.io)"
   ]
  },
  {
   "cell_type": "markdown",
   "metadata": {},
   "source": [
    "## Transformaciones con CSS.\n",
    "\n",
    "Las hojas de estilo cuentan con el atributo *transform* el cual permite transformar elementos mediante los métodos.\n",
    "\n",
    "El origen en CSS es en la mitad del elemento. \n",
    "\n",
    "* *translate()*\n",
    "    * *translateX()*\n",
    "    * *translateY()*.\n",
    "* *scale()*\n",
    "    * *scaleX()*\n",
    "    * *scaleY()*.\n",
    "* *skew()*\n",
    "    * *skewX()*\n",
    "    * *skewY()*\n",
    "* *matrix()*\n",
    "* *rotate()*\n",
    "* *rotateX()*\n",
    "* *rotateY()*\n",
    "* *rotateZ()*\n",
    "\n",
    "La sintaxis es la siguiente:\n",
    "```\n",
    "<selector>{\n",
    "transform: <método>(<atributos>);\n",
    "}\n",
    "```"
   ]
  },
  {
   "cell_type": "markdown",
   "metadata": {},
   "source": [
    "### La clase contenedor."
   ]
  },
  {
   "cell_type": "code",
   "execution_count": 17,
   "metadata": {},
   "outputs": [
    {
     "data": {
      "text/html": [
       "\n",
       "<style>\n",
       "    .contenedor {\n",
       "       margin-top: 60px;\n",
       "       margin-left: 60px;\n",
       "       width: 200px;\n",
       "       height:200px;\n",
       "       background-color:#e9f0f2;\n",
       "    }\n",
       "</style>\n"
      ],
      "text/plain": [
       "<IPython.core.display.HTML object>"
      ]
     },
     "metadata": {},
     "output_type": "display_data"
    }
   ],
   "source": [
    "%%html\n",
    "\n",
    "<style>\n",
    "    .contenedor {\n",
    "       margin-top: 60px;\n",
    "       margin-left: 60px;\n",
    "       width: 200px;\n",
    "       height:200px;\n",
    "       background-color:#e9f0f2;\n",
    "    }\n",
    "</style>"
   ]
  },
  {
   "cell_type": "markdown",
   "metadata": {},
   "source": [
    "### Muestra original."
   ]
  },
  {
   "cell_type": "code",
   "execution_count": 18,
   "metadata": {},
   "outputs": [
    {
     "data": {
      "text/html": [
       "<style>\n",
       "    #ejemplo {\n",
       "        background-color:gold;\n",
       "        width: 100px;\n",
       "        height: 100px;\n",
       "        color:red;\n",
       "        }\n",
       "</style>\n",
       "<div class=\"contenedor\">\n",
       "    <div id=\"ejemplo\">texto</div>\n",
       "</div>\n"
      ],
      "text/plain": [
       "<IPython.core.display.HTML object>"
      ]
     },
     "metadata": {},
     "output_type": "display_data"
    }
   ],
   "source": [
    "%%html\n",
    "<style>\n",
    "    #ejemplo {\n",
    "        background-color:gold;\n",
    "        width: 100px;\n",
    "        height: 100px;\n",
    "        color:red;\n",
    "        }\n",
    "</style>\n",
    "<div class=\"contenedor\">\n",
    "    <div id=\"ejemplo\">texto</div>\n",
    "</div>"
   ]
  },
  {
   "cell_type": "markdown",
   "metadata": {},
   "source": [
    "### El método *translate()*."
   ]
  },
  {
   "cell_type": "code",
   "execution_count": 19,
   "metadata": {
    "scrolled": false
   },
   "outputs": [
    {
     "data": {
      "text/html": [
       "<style>\n",
       "    #ejemplo_1 {\n",
       "        background-color:gold;\n",
       "        width: 100px;\n",
       "        height: 100px;\n",
       "        color:red;\n",
       "        transform: translate(250px, 150px);    \n",
       "        }\n",
       "</style>\n",
       "<div class=\"contenedor\">\n",
       "    <div id=\"ejemplo_1\">texto</div>\n",
       "</div>\n"
      ],
      "text/plain": [
       "<IPython.core.display.HTML object>"
      ]
     },
     "metadata": {},
     "output_type": "display_data"
    }
   ],
   "source": [
    "%%html\n",
    "<style>\n",
    "    #ejemplo_1 {\n",
    "        background-color:gold;\n",
    "        width: 100px;\n",
    "        height: 100px;\n",
    "        color:red;\n",
    "        transform: translate(250px, 150px);    \n",
    "        }\n",
    "</style>\n",
    "<div class=\"contenedor\">\n",
    "    <div id=\"ejemplo_1\">texto</div>\n",
    "</div>"
   ]
  },
  {
   "cell_type": "markdown",
   "metadata": {},
   "source": [
    "### Los métodos *translateX()* y *translateX()*."
   ]
  },
  {
   "cell_type": "code",
   "execution_count": 20,
   "metadata": {
    "scrolled": false
   },
   "outputs": [
    {
     "data": {
      "text/html": [
       "<style>\n",
       "    #ejemplo_2 {\n",
       "        background-color:gold;\n",
       "        width: 100px;\n",
       "        height: 100px;\n",
       "        color:red;\n",
       "        transform: translateX(50px);\n",
       "        transform: translateY(-50px);    \n",
       "        }\n",
       "</style>\n",
       "<div class=\"contenedor\">\n",
       "    <div id=\"ejemplo_2\">texto</div>\n",
       "</div>\n"
      ],
      "text/plain": [
       "<IPython.core.display.HTML object>"
      ]
     },
     "metadata": {},
     "output_type": "display_data"
    }
   ],
   "source": [
    "%%html\n",
    "<style>\n",
    "    #ejemplo_2 {\n",
    "        background-color:gold;\n",
    "        width: 100px;\n",
    "        height: 100px;\n",
    "        color:red;\n",
    "        transform: translateX(50px);\n",
    "        transform: translateY(-50px);    \n",
    "        }\n",
    "</style>\n",
    "<div class=\"contenedor\">\n",
    "    <div id=\"ejemplo_2\">texto</div>\n",
    "</div>"
   ]
  },
  {
   "cell_type": "markdown",
   "metadata": {},
   "source": [
    "### El método *scale()*."
   ]
  },
  {
   "cell_type": "code",
   "execution_count": 21,
   "metadata": {
    "scrolled": false
   },
   "outputs": [
    {
     "data": {
      "text/html": [
       "<style>\n",
       "    #ejemplo_3 {\n",
       "        background-color:gold;\n",
       "        color:red;\n",
       "        width: 100px;\n",
       "        height: 100px;\n",
       "        transform: scale(0.5, 1.2); \n",
       "        }\n",
       "</style>\n",
       "<div class=\"contenedor\">\n",
       "    <div id=\"ejemplo_3\">texto</div>\n",
       "</div>\n"
      ],
      "text/plain": [
       "<IPython.core.display.HTML object>"
      ]
     },
     "metadata": {},
     "output_type": "display_data"
    }
   ],
   "source": [
    "%%html\n",
    "<style>\n",
    "    #ejemplo_3 {\n",
    "        background-color:gold;\n",
    "        color:red;\n",
    "        width: 100px;\n",
    "        height: 100px;\n",
    "        transform: scale(0.5, 1.2); \n",
    "        }\n",
    "</style>\n",
    "<div class=\"contenedor\">\n",
    "    <div id=\"ejemplo_3\">texto</div>\n",
    "</div>"
   ]
  },
  {
   "cell_type": "markdown",
   "metadata": {},
   "source": [
    "### Los métodos *scaleX()* y *scaleY()*."
   ]
  },
  {
   "cell_type": "code",
   "execution_count": 22,
   "metadata": {
    "scrolled": false
   },
   "outputs": [
    {
     "data": {
      "text/html": [
       "<style>\n",
       "    #ejemplo_4 {\n",
       "        background-color:gold;\n",
       "        color:red;\n",
       "        width: 100px;\n",
       "        height: 100px;\n",
       "        transform: scaleX(0.75);\n",
       "        transform: scaleY(1,2); \n",
       "        }\n",
       "</style>\n",
       "<div class=\"contenedor\">\n",
       "    <div id=\"ejemplo_4\">texto</div>\n",
       "</div>\n"
      ],
      "text/plain": [
       "<IPython.core.display.HTML object>"
      ]
     },
     "metadata": {},
     "output_type": "display_data"
    }
   ],
   "source": [
    "%%html\n",
    "<style>\n",
    "    #ejemplo_4 {\n",
    "        background-color:gold;\n",
    "        color:red;\n",
    "        width: 100px;\n",
    "        height: 100px;\n",
    "        transform: scaleX(0.75);\n",
    "        transform: scaleY(1,2); \n",
    "        }\n",
    "</style>\n",
    "<div class=\"contenedor\">\n",
    "    <div id=\"ejemplo_4\">texto</div>\n",
    "</div>"
   ]
  },
  {
   "cell_type": "markdown",
   "metadata": {},
   "source": [
    "### El método *skew()*."
   ]
  },
  {
   "cell_type": "code",
   "execution_count": 23,
   "metadata": {
    "scrolled": false
   },
   "outputs": [
    {
     "data": {
      "text/html": [
       "<style>\n",
       "    #ejemplo_5 {\n",
       "        background-color:gold;\n",
       "        color:red;\n",
       "        width: 100px;\n",
       "        height: 100px;\n",
       "        transform: skew(15deg, 20deg);\n",
       "        }\n",
       "</style>\n",
       "<div class=\"contenedor\">\n",
       "    <div id=\"ejemplo_5\">texto</div>\n",
       "</div>\n"
      ],
      "text/plain": [
       "<IPython.core.display.HTML object>"
      ]
     },
     "metadata": {},
     "output_type": "display_data"
    }
   ],
   "source": [
    "%%html\n",
    "<style>\n",
    "    #ejemplo_5 {\n",
    "        background-color:gold;\n",
    "        color:red;\n",
    "        width: 100px;\n",
    "        height: 100px;\n",
    "        transform: skew(15deg, 20deg);\n",
    "        }\n",
    "</style>\n",
    "<div class=\"contenedor\">\n",
    "    <div id=\"ejemplo_5\">texto</div>\n",
    "</div>"
   ]
  },
  {
   "cell_type": "markdown",
   "metadata": {},
   "source": [
    "### Los métodos *skewX()* y *skewY()* ."
   ]
  },
  {
   "cell_type": "code",
   "execution_count": 24,
   "metadata": {
    "scrolled": true
   },
   "outputs": [
    {
     "data": {
      "text/html": [
       "<style>\n",
       "    #ejemplo_6 {\n",
       "        background-color:gold;\n",
       "        color:red;\n",
       "        width: 100px;\n",
       "        height: 100px;\n",
       "        transform: skewX(15deg);\n",
       "        transform: skewY(20deg);\n",
       "        }\n",
       "</style>\n",
       "<div class=\"contenedor\">\n",
       "    <div id=\"ejemplo_6\">texto</div>\n",
       "</div>\n"
      ],
      "text/plain": [
       "<IPython.core.display.HTML object>"
      ]
     },
     "metadata": {},
     "output_type": "display_data"
    }
   ],
   "source": [
    "%%html\n",
    "<style>\n",
    "    #ejemplo_6 {\n",
    "        background-color:gold;\n",
    "        color:red;\n",
    "        width: 100px;\n",
    "        height: 100px;\n",
    "        transform: skewX(15deg);\n",
    "        transform: skewY(20deg);\n",
    "        }\n",
    "</style>\n",
    "<div class=\"contenedor\">\n",
    "    <div id=\"ejemplo_6\">texto</div>\n",
    "</div>"
   ]
  },
  {
   "cell_type": "markdown",
   "metadata": {},
   "source": [
    "### El método *matrix()*.\n",
    "\n",
    "```\n",
    "transform: matrix (scaleX(), skewY(), skewX(), scaleY(), translateX(), translateY())\n",
    "```"
   ]
  },
  {
   "cell_type": "code",
   "execution_count": 25,
   "metadata": {
    "scrolled": false
   },
   "outputs": [
    {
     "data": {
      "text/html": [
       "<style>\n",
       "    #ejemplo_7 {\n",
       "        background-color:gold;\n",
       "        color:red;\n",
       "        width: 100px;\n",
       "        height: 100px;\n",
       "        transform: matrix(0.5, -1.07, 0.2, 0.2, 150, 0);\n",
       "        }\n",
       "</style>\n",
       "<div class=\"contenedor\">\n",
       "    <div id=\"ejemplo_7\">texto</div>\n",
       "</div>\n"
      ],
      "text/plain": [
       "<IPython.core.display.HTML object>"
      ]
     },
     "metadata": {},
     "output_type": "display_data"
    }
   ],
   "source": [
    "%%html\n",
    "<style>\n",
    "    #ejemplo_7 {\n",
    "        background-color:gold;\n",
    "        color:red;\n",
    "        width: 100px;\n",
    "        height: 100px;\n",
    "        transform: matrix(0.5, -1.07, 0.2, 0.2, 150, 0);\n",
    "        }\n",
    "</style>\n",
    "<div class=\"contenedor\">\n",
    "    <div id=\"ejemplo_7\">texto</div>\n",
    "</div>"
   ]
  },
  {
   "cell_type": "markdown",
   "metadata": {},
   "source": [
    "### El método *rotate()*."
   ]
  },
  {
   "cell_type": "code",
   "execution_count": 26,
   "metadata": {
    "scrolled": false
   },
   "outputs": [
    {
     "data": {
      "text/html": [
       "<style>\n",
       "    #ejemplo_8 {\n",
       "        background-color:gold;\n",
       "        color:red;\n",
       "        width: 100px;\n",
       "        height: 100px;\n",
       "        transform: rotate(45deg); \n",
       "        }\n",
       "</style>\n",
       "<div class=\"contenedor\">\n",
       "    <div id=\"ejemplo_8\">texto</div>\n",
       "</div>\n"
      ],
      "text/plain": [
       "<IPython.core.display.HTML object>"
      ]
     },
     "metadata": {},
     "output_type": "display_data"
    }
   ],
   "source": [
    "%%html\n",
    "<style>\n",
    "    #ejemplo_8 {\n",
    "        background-color:gold;\n",
    "        color:red;\n",
    "        width: 100px;\n",
    "        height: 100px;\n",
    "        transform: rotate(45deg); \n",
    "        }\n",
    "</style>\n",
    "<div class=\"contenedor\">\n",
    "    <div id=\"ejemplo_8\">texto</div>\n",
    "</div>"
   ]
  },
  {
   "cell_type": "markdown",
   "metadata": {},
   "source": [
    "### Métodos de rotaciónes en 3D.\n",
    "\n",
    "También usan la regla *transform* para rotar en los ejes *x*, *y* y *z*.\n",
    "\n",
    "* *rotateX()*\n",
    "* *rotateY()*\n",
    "* *rotateZ()*"
   ]
  },
  {
   "cell_type": "code",
   "execution_count": 39,
   "metadata": {},
   "outputs": [
    {
     "data": {
      "text/html": [
       "<style>\n",
       "    #ejemplo_9 {\n",
       "        background-color:gold;\n",
       "        color:red;\n",
       "        width: 100px;\n",
       "        height: 100px;\n",
       "        transform: rotateX(15deg);\n",
       "        transform: rotateY(45deg);\n",
       "        transform: rotateZ(15deg);\n",
       "        }\n",
       "    .contenedor {\n",
       "        margin-left:60px;\n",
       "    }\n",
       "</style>\n",
       "<div class=\"contenedor\">\n",
       "    <div id=\"ejemplo_9\">texto</div>\n",
       "</div>\n"
      ],
      "text/plain": [
       "<IPython.core.display.HTML object>"
      ]
     },
     "metadata": {},
     "output_type": "display_data"
    }
   ],
   "source": [
    "%%html\n",
    "<style>\n",
    "    #ejemplo_9 {\n",
    "        background-color:gold;\n",
    "        color:red;\n",
    "        width: 100px;\n",
    "        height: 100px;\n",
    "        transform: rotateX(15deg);\n",
    "        transform: rotateY(45deg);\n",
    "        transform: rotateZ(15deg);\n",
    "        }\n",
    "    .contenedor {\n",
    "        margin-left:60px;\n",
    "    }\n",
    "</style>\n",
    "<div class=\"contenedor\">\n",
    "    <div id=\"ejemplo_9\">texto</div>\n",
    "</div>"
   ]
  },
  {
   "cell_type": "markdown",
   "metadata": {},
   "source": [
    "##  El atributo ```perspective```"
   ]
  },
  {
   "cell_type": "code",
   "execution_count": 47,
   "metadata": {},
   "outputs": [
    {
     "data": {
      "text/html": [
       "<style>\n",
       ".contenedor {\n",
       "    perspective: 50px;\n",
       "}\n",
       "#ejemplo_10 {\n",
       "    background-color:gold;\n",
       "    color:red;\n",
       "    width: 100px;\n",
       "    height: 100px;\n",
       "    transform-style: preserve-3d;\n",
       "    transform: rotateX(25deg);\n",
       "}\n",
       "\n",
       "</style>\n",
       "\n",
       "<div class=\"contenedor\">\n",
       "  <div id=\"ejemplo_10\">texto</div>\n",
       "</div>\n"
      ],
      "text/plain": [
       "<IPython.core.display.HTML object>"
      ]
     },
     "metadata": {},
     "output_type": "display_data"
    }
   ],
   "source": [
    "%%html\n",
    "<style>\n",
    ".contenedor {\n",
    "    perspective: 50px;\n",
    "}\n",
    "#ejemplo_10 {\n",
    "    background-color:gold;\n",
    "    color:red;\n",
    "    width: 100px;\n",
    "    height: 100px;\n",
    "    transform-style: preserve-3d;\n",
    "    transform: rotateX(25deg);\n",
    "}\n",
    "\n",
    "</style>\n",
    "\n",
    "<div class=\"contenedor\">\n",
    "  <div id=\"ejemplo_10\">texto</div>\n",
    "</div>\n"
   ]
  },
  {
   "cell_type": "markdown",
   "metadata": {},
   "source": [
    "# Transiciones."
   ]
  },
  {
   "cell_type": "code",
   "execution_count": 30,
   "metadata": {},
   "outputs": [
    {
     "data": {
      "text/html": [
       "<style>\n",
       "    #ejemplo_11 {\n",
       "        background-color:gold;\n",
       "        color:red;\n",
       "        width: 100px;\n",
       "        height: 100px;\n",
       "        transition: width 4s, background-color 2s;\n",
       "        }\n",
       "    #ejemplo_11:hover {\n",
       "        width: 500px;\n",
       "        background-color: blue;\n",
       "    }\n",
       "    \n",
       "</style>\n",
       "<div class=\"contenedor\">\n",
       "    <div id=\"ejemplo_11\">texto</div>\n",
       "</div>\n"
      ],
      "text/plain": [
       "<IPython.core.display.HTML object>"
      ]
     },
     "metadata": {},
     "output_type": "display_data"
    }
   ],
   "source": [
    "%%html\n",
    "<style>\n",
    "    #ejemplo_11 {\n",
    "        background-color:gold;\n",
    "        color:red;\n",
    "        width: 100px;\n",
    "        height: 100px;\n",
    "        transition: width 4s, background-color 2s;\n",
    "        }\n",
    "    #ejemplo_11:hover {\n",
    "        width: 500px;\n",
    "        background-color: blue;\n",
    "    }\n",
    "    \n",
    "</style>\n",
    "<div class=\"contenedor\">\n",
    "    <div id=\"ejemplo_11\">texto</div>\n",
    "</div>"
   ]
  },
  {
   "cell_type": "markdown",
   "metadata": {},
   "source": [
    "### Retraso de transiciones.\n",
    "\n",
    "transition-delay"
   ]
  },
  {
   "cell_type": "code",
   "execution_count": 31,
   "metadata": {},
   "outputs": [
    {
     "data": {
      "text/html": [
       "<style>\n",
       "    #ejemplo_12 {\n",
       "        background-color:gold;\n",
       "        color:red;\n",
       "        width: 100px;\n",
       "        height: 100px;\n",
       "        transition: width 4s, background-color 2s;\n",
       "        transition-delay: 1s;\n",
       "        }\n",
       "    #ejemplo_12:hover {\n",
       "        width: 500px;\n",
       "        background-color: blue;\n",
       "    }\n",
       "    \n",
       "</style>\n",
       "<div class=\"contenedor\">\n",
       "    <div id=\"ejemplo_11\">texto</div>\n",
       "</div>\n"
      ],
      "text/plain": [
       "<IPython.core.display.HTML object>"
      ]
     },
     "metadata": {},
     "output_type": "display_data"
    }
   ],
   "source": [
    "%%html\n",
    "<style>\n",
    "    #ejemplo_12 {\n",
    "        background-color:gold;\n",
    "        color:red;\n",
    "        width: 100px;\n",
    "        height: 100px;\n",
    "        transition: width 4s, background-color 2s;\n",
    "        transition-delay: 1s;\n",
    "        }\n",
    "    #ejemplo_12:hover {\n",
    "        width: 500px;\n",
    "        background-color: blue;\n",
    "    }\n",
    "    \n",
    "</style>\n",
    "<div class=\"contenedor\">\n",
    "    <div id=\"ejemplo_11\">texto</div>\n",
    "</div>"
   ]
  },
  {
   "cell_type": "markdown",
   "metadata": {},
   "source": [
    "## Transiciones con transformaciones."
   ]
  },
  {
   "cell_type": "code",
   "execution_count": 32,
   "metadata": {},
   "outputs": [
    {
     "data": {
      "text/html": [
       "<style>\n",
       "    #ejemplo_13 {\n",
       "        background-color:gold;\n",
       "        color:red;\n",
       "        width: 100px;\n",
       "        height: 100px;\n",
       "        transition: width 4s, background-color 2s, transform 5s;\n",
       "        }\n",
       "    #ejemplo_13:hover {\n",
       "        width: 500px;\n",
       "        background-color: blue;\n",
       "        transform: translate(100px);\n",
       "    }\n",
       "    \n",
       "</style>\n",
       "<div class=\"contenedor\">\n",
       "    <div id=\"ejemplo_13\">texto</div>\n",
       "</div>\n"
      ],
      "text/plain": [
       "<IPython.core.display.HTML object>"
      ]
     },
     "metadata": {},
     "output_type": "display_data"
    }
   ],
   "source": [
    "%%html\n",
    "<style>\n",
    "    #ejemplo_13 {\n",
    "        background-color:gold;\n",
    "        color:red;\n",
    "        width: 100px;\n",
    "        height: 100px;\n",
    "        transition: width 4s, background-color 2s, transform 5s;\n",
    "        }\n",
    "    #ejemplo_13:hover {\n",
    "        width: 500px;\n",
    "        background-color: blue;\n",
    "        transform: translate(100px);\n",
    "    }\n",
    "    \n",
    "</style>\n",
    "<div class=\"contenedor\">\n",
    "    <div id=\"ejemplo_13\">texto</div>\n",
    "</div>"
   ]
  },
  {
   "cell_type": "markdown",
   "metadata": {},
   "source": [
    "## Animaciones."
   ]
  },
  {
   "cell_type": "markdown",
   "metadata": {},
   "source": [
    "Utilizan *@keyframes* con un identificador.\n",
    " * from\n",
    " * to"
   ]
  },
  {
   "cell_type": "code",
   "execution_count": null,
   "metadata": {
    "scrolled": true
   },
   "outputs": [],
   "source": [
    "%%html\n",
    "<style>\n",
    "    @keyframes animacion_1{\n",
    "        from {background-color: white;}\n",
    "        to {background-color: black;}\n",
    "    }\n",
    "    #ejemplo_14 {\n",
    "        background-color:gold;\n",
    "        color:red;\n",
    "        width: 100px;\n",
    "        height: 100px;\n",
    "        animation-name: animacion_1;\n",
    "        animation-duration: 5s;\n",
    "        animation-delay: 1s;\n",
    "        animation-iteration-count: infinite;\n",
    "        }\n",
    "\n",
    "</style>\n",
    "<div class=\"contenedor\">\n",
    "    <div id=\"ejemplo_14\">texto</div>\n",
    "</div>"
   ]
  },
  {
   "cell_type": "markdown",
   "metadata": {},
   "source": [
    "### Secuencia de animaciones.\n",
    "\n",
    "Regla: *animation-direction*\n",
    "\n",
    "* *normal*\n",
    "* *reverse*\n",
    "* *alternate*\n",
    "* *alternate-reverse*"
   ]
  },
  {
   "cell_type": "code",
   "execution_count": null,
   "metadata": {},
   "outputs": [],
   "source": [
    "%%html\n",
    "<style>\n",
    "    @keyframes animacion_2{\n",
    "        from {background-color: blue;}\n",
    "        to {background-color: green;}\n",
    "    }\n",
    "    #ejemplo_15 {\n",
    "        background-color:gold;\n",
    "        color:red;\n",
    "        width: 100px;\n",
    "        height: 100px;\n",
    "        animation-name: animacion_2;\n",
    "        animation-duration: 5s;\n",
    "        animation-delay: 1s;\n",
    "        animation-direction: alternate;\n",
    "        animation-iteration-count: infinite;\n",
    "        }\n",
    "\n",
    "</style>\n",
    "<div class=\"contenedor\">\n",
    "    <div id=\"ejemplo_15\">texto</div>\n",
    "</div>"
   ]
  },
  {
   "cell_type": "markdown",
   "metadata": {},
   "source": [
    "Para conocer más al respecto acudir a:\n",
    "https://www.w3schools.com/Css/"
   ]
  },
  {
   "cell_type": "markdown",
   "metadata": {},
   "source": [
    "<p style=\"text-align: center\"><a rel=\"license\" href=\"http://creativecommons.org/licenses/by/4.0/\"><img alt=\"Licencia Creative Commons\" style=\"border-width:0\" src=\"https://i.creativecommons.org/l/by/4.0/80x15.png\" /></a><br />Esta obra está bajo una <a rel=\"license\" href=\"http://creativecommons.org/licenses/by/4.0/\">Licencia Creative Commons Atribución 4.0 Internacional</a>.</p>\n",
    "<p style=\"text-align: center\">&copy; José Luis Chiquete Valdivieso. 2019.</p>"
   ]
  }
 ],
 "metadata": {
  "kernelspec": {
   "display_name": "Python 3",
   "language": "python",
   "name": "python3"
  },
  "language_info": {
   "codemirror_mode": {
    "name": "ipython",
    "version": 3
   },
   "file_extension": ".py",
   "mimetype": "text/x-python",
   "name": "python",
   "nbconvert_exporter": "python",
   "pygments_lexer": "ipython3",
   "version": "3.6.5"
  }
 },
 "nbformat": 4,
 "nbformat_minor": 2
}
